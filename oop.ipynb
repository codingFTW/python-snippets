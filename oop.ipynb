{
 "cells": [
  {
   "cell_type": "code",
   "execution_count": 1,
   "metadata": {},
   "outputs": [
    {
     "name": "stdout",
     "output_type": "stream",
     "text": [
      "Python engineer 27 Junior 5000 Keyboard Magician\n",
      "Python engineer halo halo bandung\n",
      "Python engineer is writing code ...\n",
      "Python engineer is writing code in groovy....\n",
      "name = Python engineer, age=27, level=Junior, salary=5000\n",
      "False\n",
      "7000\n"
     ]
    }
   ],
   "source": [
    "#This is a class\n",
    "class SoftwareEngineer:\n",
    "\n",
    "    alias=\"Keyboard Magician\"\n",
    "    def __init__(self,name,age,level,salary):\n",
    "        #instance attributes\n",
    "        self.name = name\n",
    "        self.age = age\n",
    "        self.level = level\n",
    "        self.salary = salary\n",
    "\n",
    "    def code(self):\n",
    "        print(f\"{self.name} is writing code ...\")\n",
    "    \n",
    "    def code_in_language(self,language):\n",
    "        print(f\"{self.name} is writing code in {language}....\")\n",
    "    \n",
    "    def information(self):\n",
    "        return f\"name = {self.name}, age={self.age}, level={self.level}, salary={self.salary}\"\n",
    "    \n",
    "    def __str__(self) -> str:\n",
    "        return f\"name = {self.name}, age={self.age}, level={self.level}, salary={self.salary}\"\n",
    "\n",
    "    def __eq__(self, o: object) -> bool:\n",
    "        return self.age == o.age and self.name == o.name\n",
    "    \n",
    "    @staticmethod\n",
    "    def calculate_salary(age):\n",
    "        if age < 24:\n",
    "            return 5000\n",
    "        elif age >=24 and age <34:\n",
    "            return 7000\n",
    "        else:\n",
    "            return 10000\n",
    "        \n",
    "\n",
    "se1 = SoftwareEngineer(\"Python engineer\",27,\"Junior\",5000)\n",
    "se2 = SoftwareEngineer(\"Python engineer\",28,\"Junior\",5000)\n",
    "print(se1.name,se1.age,se1.level,se1.salary,se1.alias)\n",
    "print(f\"{se1.name} halo halo bandung\")\n",
    "se1.code()\n",
    "se1.code_in_language(\"groovy\")\n",
    "print(se1.information())\n",
    "print(se1 == se2)\n",
    "print(se1.calculate_salary(25))"
   ]
  },
  {
   "cell_type": "code",
   "execution_count": 9,
   "metadata": {},
   "outputs": [
    {
     "name": "stdout",
     "output_type": "stream",
     "text": [
      "False\n",
      "True\n"
     ]
    }
   ],
   "source": [
    "class TelcoCompany:\n",
    "    alias = \"Perusahaan Telekomunikasi\"\n",
    "    def __init__(self,company_name,number_of_employee:int,number_of_tower,is5GSupported:bool) -> None:\n",
    "        self.company_name = company_name\n",
    "        self.number_of_employee = number_of_employee\n",
    "        self.number_of_tower = number_of_tower\n",
    "        self.is5GSupported = is5GSupported\n",
    "    \n",
    "    def information(self) -> None:\n",
    "        print(f\"Company name is {self.company_name} with {self.number_of_employee} number of employee and {self.number_of_tower} number of towers. {self.company_name} 5G Support : {self.is5GSupported}\")\n",
    "\n",
    "    def __eq__(self, other: object) -> bool:\n",
    "        return self.company_name == other.company_name\n",
    "    \n",
    "    def __str__(self) -> str:\n",
    "        return f\"String info -- Company name is {self.company_name} with {self.number_of_employee} number of employee and {self.number_of_tower} number of towers. {self.company_name} 5G Support : {self.is5GSupported}\"\n",
    "\n",
    "telkomsel = TelcoCompany(\"Telkomsel\", 3000, 6000, True)\n",
    "indosat = TelcoCompany(\"Indosat\", 3000, 6000, True)\n",
    "tsel_clone = TelcoCompany(\"Telkomsel\", 3000, 6000, True)\n",
    "#tc_company.information()\n",
    "print(telkomsel == indosat)\n",
    "print(telkomsel == tsel_clone)\n",
    "\n"
   ]
  }
 ],
 "metadata": {
  "interpreter": {
   "hash": "98f5e2b5c81c3a97d42bc8739a10fe0e74037a160ae42da0f4d3f3635ee551bf"
  },
  "kernelspec": {
   "display_name": "Python 3.8.8 64-bit ('bermain': conda)",
   "name": "python3"
  },
  "language_info": {
   "codemirror_mode": {
    "name": "ipython",
    "version": 3
   },
   "file_extension": ".py",
   "mimetype": "text/x-python",
   "name": "python",
   "nbconvert_exporter": "python",
   "pygments_lexer": "ipython3",
   "version": "3.8.8"
  },
  "orig_nbformat": 4
 },
 "nbformat": 4,
 "nbformat_minor": 2
}
